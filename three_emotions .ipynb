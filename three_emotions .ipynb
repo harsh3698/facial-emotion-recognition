{
  "nbformat": 4,
  "nbformat_minor": 0,
  "metadata": {
    "colab": {
      "name": "three_emotions.ipynb",
      "provenance": [],
      "collapsed_sections": [],
      "toc_visible": true
    },
    "kernelspec": {
      "name": "python3",
      "display_name": "Python 3"
    },
    "accelerator": "GPU"
  },
  "cells": [
    {
      "cell_type": "code",
      "metadata": {
        "id": "N5UctrV0Qdak",
        "colab_type": "code",
        "colab": {}
      },
      "source": [
        "#used colab so imported drive to access the data from the drive"
        "from google.colab import drive\n",
        "drive.mount('/content/drive')"
      ],
      "execution_count": 0,
      "outputs": []
    },
    {
      "cell_type": "code",
      "metadata": {
        "id": "1CNMGR3vTfrK",
        "colab_type": "code",
        "colab": {}
      },
      "source": [
        "!git clone https://github.com/justinshenk/fer.git"
      ],
      "execution_count": 0,
      "outputs": []
    },
    {
      "cell_type": "markdown",
      "metadata": {
        "id": "U4gNYIALa-vl",
        "colab_type": "text"
      },
      "source": [
        "cloning the fer repository"
      ]
    },
    {
      "cell_type": "code",
      "metadata": {
        "id": "WGK5G5mgQd02",
        "colab_type": "code",
        "colab": {}
      },
      "source": [
        "!pip install fer"
      ],
      "execution_count": 0,
      "outputs": []
    },
    {
      "cell_type": "markdown",
      "metadata": {
        "id": "b2-mhdPMbDnH",
        "colab_type": "text"
      },
      "source": [
        "installing the fer for emotion detection"
      ]
    },
    {
      "cell_type": "code",
      "metadata": {
        "id": "2H4QdlEwToef",
        "colab_type": "code",
        "outputId": "d3ed3312-430a-4c8d-8e06-ddfc9a698d5e",
        "colab": {
          "base_uri": "https://localhost:8080/",
          "height": 34
        }
      },
      "source": [
        "cd /content/drive/My Drive/fer"
      ],
      "execution_count": 4,
      "outputs": [
        {
          "output_type": "stream",
          "text": [
            "/content/drive/My Drive/fer\n"
          ],
          "name": "stdout"
        }
      ]
    },
    {
      "cell_type": "code",
      "metadata": {
        "id": "pmUuhQpMQsY2",
        "colab_type": "code",
        "outputId": "58f0a34c-afe4-47cd-857a-0084a9bccc62",
        "colab": {
          "base_uri": "https://localhost:8080/",
          "height": 63
        }
      },
      "source": [
        "from fer import FER\n",
        "import cv2\n",
        "import os\n",
        "import seaborn as sns\n",
        "import numpy as np\n",
        "import matplotlib.pyplot as plt"
      ],
      "execution_count": 5,
      "outputs": [
        {
          "output_type": "display_data",
          "data": {
            "text/html": [
              "<p style=\"color: red;\">\n",
              "The default version of TensorFlow in Colab will soon switch to TensorFlow 2.x.<br>\n",
              "We recommend you <a href=\"https://www.tensorflow.org/guide/migrate\" target=\"_blank\">upgrade</a> now \n",
              "or ensure your notebook will continue to use TensorFlow 1.x via the <code>%tensorflow_version 1.x</code> magic:\n",
              "<a href=\"https://colab.research.google.com/notebooks/tensorflow_version.ipynb\" target=\"_blank\">more info</a>.</p>\n"
            ],
            "text/plain": [
              "<IPython.core.display.HTML object>"
            ]
          },
          "metadata": {
            "tags": []
          }
        }
      ]
    },
    {
      "cell_type": "code",
      "metadata": {
        "id": "v335EUUyF7x-",
        "colab_type": "code",
        "colab": {}
      },
      "source": [
        "real = []"
      ],
      "execution_count": 0,
      "outputs": []
    },
    {
      "cell_type": "code",
      "metadata": {
        "id": "6BwNgiyRCJrt",
        "colab_type": "code",
        "colab": {}
      },
      "source": [
        "# here i used my dataset for testing so manually added the real labels\n",
        "\n",
        "real.extend(['positive']*33)\n",
        "real.extend(['negative']*33)\n",
        "real.extend(['neutral']*34)"
      ],
      "execution_count": 0,
      "outputs": []
    },
    {
      "cell_type": "markdown",
      "metadata": {
        "id": "AObA3IvOcE_f",
        "colab_type": "text"
      },
      "source": [
        "testing on random faces collected (own dataset)"
      ]
    },
    {
      "cell_type": "code",
      "metadata": {
        "id": "ApjFaAPsRLRv",
        "colab_type": "code",
        "colab": {
          "base_uri": "https://localhost:8080/",
          "height": 34
        },
        "outputId": "f66bbd6b-4065-463a-b47d-02feea80e3d1"
      },
      "source": [
        "path = # give the address to the dataset for testing\n",
        "files = []\n",
        "emo = []\n",
        "# for reading files inside multiple folders\n",
        "for r,d,f in os.walk(path):\n",
        "  for file in f:\n",
        "    files.append(os.path.join(r, file))\n",
        "detector = FER(mtcnn = True)\n",
        "count = 0\n",
        "for f in files:\n",
        "  count+=1\n",
        "  if f.split('.')[-1]=='jpg' or f.split('.')[-1]=='jpeg' or f.split('.')[-1]== 'png':\n",
        "    im = cv2.imread(f)\n",
        "    if detector.detect_emotions(im)!=[]:\n",
        "       # print(f)\n",
        "        emotion, score = detector.top_emotion(im)\n",
        "        # changing the outcome to give results in three categories\n",
        "        if emotion in ['happy']:\n",
        "          emotion = 'positive'\n",
        "          emo.append(emotion)\n",
        "        elif emotion not in  ['happy', 'neutral', 'surprise']:\n",
        "          emotion = 'negative'\n",
        "          emo.append(emotion)\n",
        "        elif emotion in ['neutral', 'surprise'] :\n",
        "          emotion = 'neutral'\n",
        "          emo.append(emotion)\n",
        "    elif detector.detect_emotions(im)==[]:\n",
        "      emotion = 'none'\n",
        "      emo.append('neutral')\n",
        "emoticon = {'positive':0,'negative':0,'neutral':0}\n",
        "#print(emo)\n",
        "for i in emo:\n",
        "  if i in ['positive']:\n",
        "    emoticon['positive']+=1\n",
        "  elif i in  ['negative']:\n",
        "    emoticon['negative']+=1\n",
        "  elif i in ['neutral'] :\n",
        "    emoticon['neutral']+=1\n",
        "print(emoticon)\n",
        "#print(count)"
      ],
      "execution_count": 11,
      "outputs": [
        {
          "output_type": "stream",
          "text": [
            "{'positive': 29, 'negative': 32, 'neutral': 39}\n"
          ],
          "name": "stdout"
        }
      ]
    },
    {
      "cell_type": "code",
      "metadata": {
        "id": "aa0D4Oyu-s3j",
        "colab_type": "code",
        "outputId": "657027dd-2060-4a56-dcb9-82374357b58e",
        "colab": {
          "base_uri": "https://localhost:8080/",
          "height": 312
        }
      },
      "source": [
        "# creating confusion matrix\n",
        "from sklearn.metrics import confusion_matrix\n",
        "cm = confusion_matrix(real,emo,labels = ['positive','negative','neutral'])\n",
        "cm = cm.astype(np.float)/cm.astype(np.float).sum(axis=1)[:,np.newaxis]\n",
        "ax = plt.subplot()\n",
        "sns.heatmap(cm,annot=True, ax = ax, cbar = False)\n",
        "ax.title.set_color('black')\n",
        "ax.set_xlabel('Predicted labels')\n",
        "ax.xaxis.label.set_color('black')\n",
        "ax.yaxis.label.set_color('black')\n",
        "ax.set_ylabel('True labels')\n",
        "ax.set_title('Confusion Matrix') \n",
        "ax.xaxis.tick_top()\n",
        "ax.tick_params(axis='x', colors='black')\n",
        "ax.tick_params(axis='y', colors='black')\n",
        "ax.xaxis.set_ticklabels(['positive', 'negative', 'neutral'])\n",
        "ax.yaxis.set_ticklabels(['positive', 'negative', 'neutral'])"
      ],
      "execution_count": 14,
      "outputs": [
        {
          "output_type": "execute_result",
          "data": {
            "text/plain": [
              "[Text(0, 0.5, 'positive'), Text(0, 1.5, 'negative'), Text(0, 2.5, 'neutral')]"
            ]
          },
          "metadata": {
            "tags": []
          },
          "execution_count": 14
        },
        {
          "output_type": "display_data",
          "data": {
            "image/png": "iVBORw0KGgoAAAANSUhEUgAAAXwAAAEWCAYAAABliCz2AAAABHNCSVQICAgIfAhkiAAAAAlwSFlz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\n+CIiCUIJX0QkQfw/lDUOBz6iShYAAAAASUVORK5CYII=\n",
            "text/plain": [
              "<Figure size 432x288 with 1 Axes>"
            ]
          },
          "metadata": {
            "tags": []
          }
        }
      ]
    },
    {
      "cell_type": "code",
      "metadata": {
        "id": "JzLZpGCIJK-7",
        "colab_type": "code",
        "colab": {
          "base_uri": "https://localhost:8080/",
          "height": 34
        },
        "outputId": "48b1ea0e-3e40-44df-c895-be97d1045788"
      },
      "source": [
        "from sklearn.metrics import accuracy_score\n",
        "print(accuracy_score(real, emo))"
      ],
      "execution_count": 13,
      "outputs": [
        {
          "output_type": "stream",
          "text": [
            "0.74\n"
          ],
          "name": "stdout"
        }
      ]
    }
  ]
}
