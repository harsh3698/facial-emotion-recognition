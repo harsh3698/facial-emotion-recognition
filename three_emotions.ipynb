{
  "nbformat": 4,
  "nbformat_minor": 0,
  "metadata": {
    "colab": {
      "name": "three_emotions.ipynb",
      "provenance": [],
      "collapsed_sections": [],
      "toc_visible": true
    },
    "kernelspec": {
      "name": "python3",
      "display_name": "Python 3"
    },
    "accelerator": "GPU"
  },
  "cells": [
    {
      "cell_type": "code",
      "metadata": {
        "id": "N5UctrV0Qdak",
        "colab_type": "code",
        "outputId": "ddf59c04-b889-48f7-90a8-fc6c62ba3ff3",
        "colab": {
          "base_uri": "https://localhost:8080/",
          "height": 122
        }
      },
      "source": [
        "from google.colab import drive\n",
        "drive.mount('/content/drive')"
      ],
      "execution_count": 1,
      "outputs": [
        {
          "output_type": "stream",
          "text": [
            "Go to this URL in a browser: https://accounts.google.com/o/oauth2/auth?client_id=947318989803-6bn6qk8qdgf4n4g3pfee6491hc0brc4i.apps.googleusercontent.com&redirect_uri=urn%3aietf%3awg%3aoauth%3a2.0%3aoob&response_type=code&scope=email%20https%3a%2f%2fwww.googleapis.com%2fauth%2fdocs.test%20https%3a%2f%2fwww.googleapis.com%2fauth%2fdrive%20https%3a%2f%2fwww.googleapis.com%2fauth%2fdrive.photos.readonly%20https%3a%2f%2fwww.googleapis.com%2fauth%2fpeopleapi.readonly\n",
            "\n",
            "Enter your authorization code:\n",
            "··········\n",
            "Mounted at /content/drive\n"
          ],
          "name": "stdout"
        }
      ]
    },
    {
      "cell_type": "code",
      "metadata": {
        "id": "1CNMGR3vTfrK",
        "colab_type": "code",
        "colab": {}
      },
      "source": [
        "!git clone https://github.com/justinshenk/fer.git"
      ],
      "execution_count": 0,
      "outputs": []
    },
    {
      "cell_type": "markdown",
      "metadata": {
        "id": "U4gNYIALa-vl",
        "colab_type": "text"
      },
      "source": [
        "cloning the fer repository"
      ]
    },
    {
      "cell_type": "code",
      "metadata": {
        "id": "WGK5G5mgQd02",
        "colab_type": "code",
        "colab": {}
      },
      "source": [
        "!pip install fer"
      ],
      "execution_count": 0,
      "outputs": []
    },
    {
      "cell_type": "markdown",
      "metadata": {
        "id": "b2-mhdPMbDnH",
        "colab_type": "text"
      },
      "source": [
        "installing the fer for emotion detection"
      ]
    },
    {
      "cell_type": "code",
      "metadata": {
        "id": "2H4QdlEwToef",
        "colab_type": "code",
        "outputId": "d3ed3312-430a-4c8d-8e06-ddfc9a698d5e",
        "colab": {
          "base_uri": "https://localhost:8080/",
          "height": 34
        }
      },
      "source": [
        "cd /content/drive/My Drive/fer"
      ],
      "execution_count": 4,
      "outputs": [
        {
          "output_type": "stream",
          "text": [
            "/content/drive/My Drive/fer\n"
          ],
          "name": "stdout"
        }
      ]
    },
    {
      "cell_type": "code",
      "metadata": {
        "id": "pmUuhQpMQsY2",
        "colab_type": "code",
        "outputId": "58f0a34c-afe4-47cd-857a-0084a9bccc62",
        "colab": {
          "base_uri": "https://localhost:8080/",
          "height": 63
        }
      },
      "source": [
        "from fer import FER\n",
        "import cv2\n",
        "import os\n",
        "import seaborn as sns\n",
        "import numpy as np\n",
        "import matplotlib.pyplot as plt"
      ],
      "execution_count": 5,
      "outputs": [
        {
          "output_type": "display_data",
          "data": {
            "text/html": [
              "<p style=\"color: red;\">\n",
              "The default version of TensorFlow in Colab will soon switch to TensorFlow 2.x.<br>\n",
              "We recommend you <a href=\"https://www.tensorflow.org/guide/migrate\" target=\"_blank\">upgrade</a> now \n",
              "or ensure your notebook will continue to use TensorFlow 1.x via the <code>%tensorflow_version 1.x</code> magic:\n",
              "<a href=\"https://colab.research.google.com/notebooks/tensorflow_version.ipynb\" target=\"_blank\">more info</a>.</p>\n"
            ],
            "text/plain": [
              "<IPython.core.display.HTML object>"
            ]
          },
          "metadata": {
            "tags": []
          }
        }
      ]
    },
    {
      "cell_type": "code",
      "metadata": {
        "id": "v335EUUyF7x-",
        "colab_type": "code",
        "colab": {}
      },
      "source": [
        "real = []"
      ],
      "execution_count": 0,
      "outputs": []
    },
    {
      "cell_type": "code",
      "metadata": {
        "id": "6BwNgiyRCJrt",
        "colab_type": "code",
        "colab": {}
      },
      "source": [
        "real.extend(['positive']*33)\n",
        "real.extend(['negative']*33)\n",
        "real.extend(['neutral']*34)"
      ],
      "execution_count": 0,
      "outputs": []
    },
    {
      "cell_type": "markdown",
      "metadata": {
        "id": "AObA3IvOcE_f",
        "colab_type": "text"
      },
      "source": [
        "testing on random faces collected "
      ]
    },
    {
      "cell_type": "code",
      "metadata": {
        "id": "ApjFaAPsRLRv",
        "colab_type": "code",
        "colab": {}
      },
      "source": [
        "#path = '/content/drive/My Drive/EmoPy/EmoPy/examples/image_data'\n",
        "path = '/content/drive/My Drive/EmoPy/EmoPy/examples/image_data/val'\n",
        "files = []\n",
        "emo = []\n",
        "for r,d,f in os.walk(path):\n",
        "  for file in f:\n",
        "    files.append(os.path.join(r, file))\n",
        "detector = FER(mtcnn = True)\n",
        "count = 0\n",
        "for f in files:\n",
        "  count+=1\n",
        "  if f.split('.')[-1]=='jpg' or f.split('.')[-1]=='jpeg' or f.split('.')[-1]== 'png':\n",
        "    im = cv2.imread(f)\n",
        "    if detector.detect_emotions(im)!=[]:\n",
        "        print(f)\n",
        "        emotion, score = detector.top_emotion(im)\n",
        "        if emotion in ['happy']:\n",
        "          emotion = 'positive'\n",
        "          emo.append(emotion)\n",
        "        elif emotion not in  ['happy', 'neutral', 'surprise']:\n",
        "          emotion = 'negative'\n",
        "          emo.append(emotion)\n",
        "        elif emotion in ['neutral', 'surprise'] :\n",
        "          emotion = 'neutral'\n",
        "          emo.append(emotion)\n",
        "    elif detector.detect_emotions(im)==[]:\n",
        "      emotion = 'none'\n",
        "      emo.append('neutral')\n",
        "emoticon = {'positive':0,'negative':0,'neutral':0}\n",
        "print(emo)\n",
        "for i in emo:\n",
        "  if i in ['positive']:\n",
        "    emoticon['positive']+=1\n",
        "  elif i in  ['negative']:\n",
        "    emoticon['negative']+=1\n",
        "  elif i in ['neutral'] :\n",
        "    emoticon['neutral']+=1\n",
        "print(emoticon)\n",
        "print(count)"
      ],
      "execution_count": 0,
      "outputs": []
    },
    {
      "cell_type": "markdown",
      "metadata": {
        "id": "YI6o35APbO0_",
        "colab_type": "text"
      },
      "source": [
        "\n",
        "{'positive': 29, 'negative': 32, 'neutral': 39}\n",
        "\n",
        "100"
      ]
    },
    {
      "cell_type": "code",
      "metadata": {
        "id": "aa0D4Oyu-s3j",
        "colab_type": "code",
        "outputId": "59f95dbf-add4-42b3-fec7-733c5d5054fa",
        "colab": {
          "base_uri": "https://localhost:8080/",
          "height": 329
        }
      },
      "source": [
        "from sklearn.metrics import confusion_matrix\n",
        "cm = confusion_matrix(real,emo,labels = ['positive','negative','neutral'])\n",
        "cm = cm.astype(np.float)/cm.astype(np.float).sum(axis=1)[:,np.newaxis]\n",
        "ax = plt.subplot()\n",
        "sns.heatmap(cm,annot=True, ax = ax, cbar = False)\n",
        "ax.title.set_color('white')\n",
        "ax.set_xlabel('Predicted labels')\n",
        "ax.xaxis.label.set_color('white')\n",
        "ax.yaxis.label.set_color('white')\n",
        "ax.set_ylabel('True labels')\n",
        "ax.set_title('Confusion Matrix') \n",
        "ax.xaxis.tick_top()\n",
        "ax.tick_params(axis='x', colors='white')\n",
        "ax.tick_params(axis='y', colors='white')\n",
        "ax.xaxis.set_ticklabels(['positive', 'negative', 'neutral'])\n",
        "ax.yaxis.set_ticklabels(['positive', 'negative', 'neutral'])"
      ],
      "execution_count": 9,
      "outputs": [
        {
          "output_type": "stream",
          "text": [
            "08-02-2020:06:09:51,919 INFO     [utils.py:141] NumExpr defaulting to 2 threads.\n"
          ],
          "name": "stderr"
        },
        {
          "output_type": "execute_result",
          "data": {
            "text/plain": [
              "[Text(0, 0.5, 'positive'), Text(0, 1.5, 'negative'), Text(0, 2.5, 'neutral')]"
            ]
          },
          "metadata": {
            "tags": []
          },
          "execution_count": 9
        },
        {
          "output_type": "display_data",
          "data": {
            "image/png": "[encoded data removed]",
            "text/plain": [
              "<Figure size 432x288 with 1 Axes>"
            ]
          },
          "metadata": {
            "tags": []
          }
        }
      ]
    },
    {
      "cell_type": "code",
      "metadata": {
        "id": "JzLZpGCIJK-7",
        "colab_type": "code",
        "colab": {}
      },
      "source": [
        ""
      ],
      "execution_count": 0,
      "outputs": []
    }
  ]
}